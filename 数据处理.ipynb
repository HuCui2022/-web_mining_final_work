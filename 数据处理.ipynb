{
 "cells": [
  {
   "cell_type": "code",
   "execution_count": 2,
   "metadata": {},
   "outputs": [],
   "source": [
    "import matplotlib.pyplot as plt\n",
    "import pandas as pd\n",
    "import numpy as np\n",
    "import seaborn as sbn\n"
   ]
  },
  {
   "cell_type": "code",
   "execution_count": 4,
   "metadata": {},
   "outputs": [],
   "source": [
    "loss_of_resnet = pd.Series([0.0984,0.0449,0.0397,0.0372,0.0362,0.0281,0.0265,0.0256,0.0255,0.0251,0.0207,0.0195,0.0188,0.0182])\n",
    "ap_resnet = pd.Series([0.754,0.783,0.791,0.794, 0.801,0.824,0.833,0.832, 0.829,0.827,0.845,0.847,0.845, 0.846])\n",
    "rc_resnet = pd.Series([0.812,0.837,0.845,0.845,0.853,0.876,0.879,0.881,0.876, 0.877,0.890,0.893,0.891,0.892 ])"
   ]
  },
  {
   "cell_type": "code",
   "execution_count": 6,
   "metadata": {},
   "outputs": [],
   "source": [
    "loss_of_mobile = pd.Series([0.2700,0.1823,0.1617,0.1478,0.1396,0.0913,0.0627,0.0525,0.0477,0.0438,0.0378,0.0371,0.0368,0.0361,0.0355,0.0337,0.0335,0.0330,0.0331,0.0329,0.0321,0.0321,0.0319,0.0319,0.0318,0.0315,])\n",
    "ap_mobile = pd.Series([0.372,0.447,0.512,0.547,0.590,0.732,0.745,0.756, 0.773,0.787,0.817,0.815,0.820,0.817,0.828,0.828,0.830,0.830,0.829,0.824,0.831,0.832,0.833,0.833,0.832,0.833])\n",
    "rc_mobile = pd.Series([0.544,0.603,0.626,0.652,0.680,0.786,0.797, 0.810,0.823,0.834,0.862,0.861,0.866,0.863,0.865,0.874,0.873,0.875,0.874, 0.870,0.876,0.877,0.877,0.877,0.877,0.878])"
   ]
  },
  {
   "cell_type": "code",
   "execution_count": 12,
   "metadata": {},
   "outputs": [
    {
     "data": {
      "text/plain": [
       "Text(0, 0.5, 'loss_value')"
      ]
     },
     "execution_count": 12,
     "metadata": {},
     "output_type": "execute_result"
    },
    {
     "data": {
      "image/png": "[encoded data removed]",
      "text/plain": [
       "<Figure size 432x288 with 1 Axes>"
      ]
     },
     "metadata": {
      "needs_background": "light"
     },
     "output_type": "display_data"
    }
   ],
   "source": [
    "loss_of_resnet.plot()\n",
    "plt.title('loss of resnet')\n",
    "plt.grid()\n",
    "plt.xlabel('num_epoch')\n",
    "plt.ylabel(\"loss_value\")"
   ]
  },
  {
   "cell_type": "code",
   "execution_count": null,
   "metadata": {},
   "outputs": [],
   "source": []
  }
 ],
 "metadata": {
  "kernelspec": {
   "display_name": "Python [conda env:pytorch]",
   "language": "python",
   "name": "conda-env-pytorch-py"
  },
  "language_info": {
   "codemirror_mode": {
    "name": "ipython",
    "version": 3
   },
   "file_extension": ".py",
   "mimetype": "text/x-python",
   "name": "python",
   "nbconvert_exporter": "python",
   "pygments_lexer": "ipython3",
   "version": "3.7.6"
  },
  "toc": {
   "base_numbering": 1,
   "nav_menu": {},
   "number_sections": true,
   "sideBar": true,
   "skip_h1_title": false,
   "title_cell": "Table of Contents",
   "title_sidebar": "Contents",
   "toc_cell": false,
   "toc_position": {},
   "toc_section_display": true,
   "toc_window_display": false
  },
  "varInspector": {
   "cols": {
    "lenName": 16,
    "lenType": 16,
    "lenVar": 40
   },
   "kernels_config": {
    "python": {
     "delete_cmd_postfix": "",
     "delete_cmd_prefix": "del ",
     "library": "var_list.py",
     "varRefreshCmd": "print(var_dic_list())"
    },
    "r": {
     "delete_cmd_postfix": ") ",
     "delete_cmd_prefix": "rm(",
     "library": "var_list.r",
     "varRefreshCmd": "cat(var_dic_list()) "
    }
   },
   "types_to_exclude": [
    "module",
    "function",
    "builtin_function_or_method",
    "instance",
    "_Feature"
   ],
   "window_display": false
  }
 },
 "nbformat": 4,
 "nbformat_minor": 4
}
